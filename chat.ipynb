{
 "cells": [
  {
   "metadata": {
    "ExecuteTime": {
     "end_time": "2024-09-21T20:27:13.208814Z",
     "start_time": "2024-09-21T20:27:13.173436Z"
    }
   },
   "cell_type": "code",
   "source": [
    "import json\n",
    "\n",
    "import yaml\n",
    "\n",
    "config = yaml.safe_load(open('config.yml'))\n",
    "# config"
   ],
   "id": "bbdf510bfcf8d4e3",
   "outputs": [],
   "execution_count": 1
  },
  {
   "metadata": {
    "ExecuteTime": {
     "end_time": "2024-09-21T20:27:13.341854Z",
     "start_time": "2024-09-21T20:27:13.213412Z"
    }
   },
   "cell_type": "code",
   "source": [
    "from ollama import Client\n",
    "\n",
    "client = Client(host='http://gpu02:11434')\n",
    "\n",
    "model_name = \"calebfahlgren/natural-functions\""
   ],
   "id": "cffe4b48aaa7b1f7",
   "outputs": [],
   "execution_count": 2
  },
  {
   "metadata": {
    "ExecuteTime": {
     "end_time": "2024-09-21T20:34:56.500012Z",
     "start_time": "2024-09-21T20:34:53.386323Z"
    }
   },
   "cell_type": "code",
   "source": [
    "import json\n",
    "from helpers import has_function_call, extract_function_call_from_string\n",
    "from tools import is_available_function, arxiv_func, wiki_func, search_func\n",
    "from chat_history import ChatHistory\n",
    "\n",
    "chat_history = ChatHistory(functions=config['functions'], history_limit=10)\n",
    "# chat_history.get_messages()\n",
    "\n",
    "while True:\n",
    "\n",
    "    ### 1. Запрос пользователя\n",
    "\n",
    "    # user_message = input(\"User: \")\n",
    "    # user_message = \"Find in arxiv papers about chain of thoughts\"\n",
    "    user_message = \"Find in duckduckgo how reproduce segfault in php script\"\n",
    "    # user_message = \"Find in wiki something about monkeys\"\n",
    "\n",
    "    # Reset chat command\n",
    "    if user_message.strip() == \"/reset\":\n",
    "        chat_history = ChatHistory(functions=config['functions'], history_limit=10)\n",
    "        print(\"History reset completed!\")\n",
    "        continue\n",
    "\n",
    "    # Skip empty messages from user\n",
    "    if user_message.strip() == \"\":\n",
    "        continue\n",
    "\n",
    "    ### 2. Запрос передаётся на вход LLM\n",
    "\n",
    "    chat_history.add_user_message(user_message)\n",
    "    messages = chat_history.get_messages()\n",
    "    model_response = client.chat(\n",
    "        model=model_name, messages=messages,\n",
    "        options={\n",
    "            \"num_predict\": 1024,\n",
    "            \"num_ctx\": 32768,\n",
    "            \"temperature\": 0,\n",
    "            \"repetition_penalty\": 1.1\n",
    "        }\n",
    "    )\n",
    "\n",
    "    # Read model response and save it to chat history\n",
    "    output = model_response['message']['content']\n",
    "    chat_history.add_assistant_message(output)\n",
    "    # print(output)\n",
    "\n",
    "    ### 3. Решаем нужно ли вызвать и если да то какой\n",
    "\n",
    "    # If response has function call\n",
    "    function_call = None\n",
    "    if has_function_call(output):\n",
    "        # Extract functino call object\n",
    "        function_call = extract_function_call_from_string(output)\n",
    "        function_name = function_call['name']\n",
    "        function_args = function_call['arguments']\n",
    "\n",
    "        if not is_available_function(function_name):\n",
    "            # print(f\">>> {function_name} is not available\")\n",
    "            continue\n",
    "\n",
    "        ### 4. Запрос в тул function call\n",
    "   \n",
    "        # print(f\">>> {function_name} is available\")\n",
    "        function_response = ''\n",
    "        if function_name == 'arxiv_func':\n",
    "            function_response = arxiv_func().invoke(function_args['query'])\n",
    "        if function_name == 'wiki_func':\n",
    "            function_response = wiki_func().invoke(function_args['query'])\n",
    "        if function_name == 'search_func':\n",
    "            function_response = search_func().invoke(function_args['query'])\n",
    "\n",
    "        # ---\n",
    "\n",
    "        ### 5. Ответ тула function response\n",
    "\n",
    "        # Add function response as user\n",
    "        chat_history.add_user_message('FUNCTION RESPONSE: ' + json.dumps({\"result\": function_response}))\n",
    "\n",
    "\n",
    "    ### 6. Интерпретация ответа\n",
    "\n",
    "    messages = chat_history.get_messages()\n",
    "    \n",
    "    # print(messages)\n",
    "    # break\n",
    "    \n",
    "    model_response = client.chat(\n",
    "        model=model_name, messages=messages,\n",
    "        options={\n",
    "            \"num_predict\": 1024,\n",
    "            \"num_ctx\": 32768,\n",
    "            \"temperature\": 0,\n",
    "            \"repetition_penalty\": 1.1\n",
    "        }\n",
    "    )\n",
    "    \n",
    "    # Read model response and save it to chat history\n",
    "    output = model_response['message']['content']\n",
    "    chat_history.add_assistant_message(output)\n",
    "    print(output)\n",
    "\n",
    "    # В начало\n",
    "\n",
    "    break\n"
   ],
   "id": "4dd881b878083ea4",
   "outputs": [
    {
     "name": "stdout",
     "output_type": "stream",
     "text": [
      "Here are some resources that might help you reproduce the segmentation fault in your PHP script:\n",
      "\n",
      "- [Troubleshooting PHP Segmentation Faults: Effective Debugging Tips - Atatus](https://www.atatus.com/blog/debugging-php/)\n",
      "- [PHP :: Bug #17045 :: Apache 2.0.35 + PHP4.2.0 segfault on start](https://bugs.php.net/17045)\n",
      "- [PHP :: Bug #64463 :: Segfault (For the moment, can't reproduce it)](https://bugs.php.net/bug.php?id=64463)\n",
      "- [PHP :: Bug #79710 :: Reproducible segfault in error_handler during GC ...](https://bugs.php.net/79710)\n"
     ]
    }
   ],
   "execution_count": 13
  }
 ],
 "metadata": {
  "kernelspec": {
   "display_name": "Python 3",
   "language": "python",
   "name": "python3"
  },
  "language_info": {
   "codemirror_mode": {
    "name": "ipython",
    "version": 2
   },
   "file_extension": ".py",
   "mimetype": "text/x-python",
   "name": "python",
   "nbconvert_exporter": "python",
   "pygments_lexer": "ipython2",
   "version": "2.7.6"
  }
 },
 "nbformat": 4,
 "nbformat_minor": 5
}
